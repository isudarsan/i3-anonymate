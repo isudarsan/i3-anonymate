{
 "cells": [
  {
   "cell_type": "markdown",
   "id": "f9382f2c",
   "metadata": {},
   "source": [
    "## Recognizer-specific Anonymizer"
   ]
  },
  {
   "cell_type": "code",
   "execution_count": null,
   "id": "9effc863",
   "metadata": {},
   "outputs": [],
   "source": [
    "from text_anonymizer import constants\n",
    "from text_anonymizer.recognizers.address.address_recognizer import (\n",
    "    CustomAddressRecognizer_AT,\n",
    "    CustomAddressRecognizer_CH,\n",
    "    CustomAddressRecognizer_DE,\n",
    "    CustomAddressRecognizer_ES,\n",
    "    CustomAddressRecognizer_GB,\n",
    "    CustomAddressRecognizer_US,\n",
    ")\n",
    "\n",
    "\n",
    "address_at_recognizer = CustomAddressRecognizer_AT(\n",
    "    supported_language=constants.LANGUAGE_CODE_EN,\n",
    "    supported_entities=[constants.ENTITY_ADDRESS],\n",
    "    supported_regions=constants.COUNTRY_CODE_AUSTRIA,\n",
    ")\n",
    "\n",
    "\n",
    "                                         #012345678901234567890123456789012\n",
    "results2 = address_at_recognizer.analyze(\"Mariahilfer Straße 123, 1060 Wien, Austria\", constants.ENTITY_ADDRESS)\n",
    "print(results2)\n",
    "print(len(\"Mariahilfer Straße 123, 1060 Wien\"))\n"
   ]
  },
  {
   "cell_type": "code",
   "execution_count": null,
   "id": "d489c5ca",
   "metadata": {},
   "outputs": [],
   "source": [
    "from text_anonymizer import constants\n",
    "from text_anonymizer.recognizers.vin import CustomVinRecognizer\n",
    "\n",
    "\n",
    "vin_recognizer = CustomVinRecognizer(\n",
    "    supported_language=constants.LANGUAGE_CODE_EN,\n",
    "    supported_entities=[constants.ENTITY_VIN],\n",
    "    supported_regions=constants.VALID_GLOBALLY,\n",
    ")\n",
    "\n",
    "\n",
    "result = vin_recognizer.analyze(\"1HGBH41JXMN109186\", [constants.ENTITY_VIN])\n",
    "print(result)\n",
    "\n",
    "print(len(\"1HGBH41JXMN109186\"))"
   ]
  },
  {
   "cell_type": "code",
   "execution_count": null,
   "id": "16e7e5ff",
   "metadata": {},
   "outputs": [],
   "source": [
    "from text_anonymizer import constants\n",
    "from text_anonymizer.recognizers.phone_number import CustomPhoneNumberRecognizer\n",
    "\n",
    "phonenumber_recognizer = CustomPhoneNumberRecognizer(\n",
    "    supported_language=constants.LANGUAGE_CODE_EN,\n",
    "    supported_entities=[constants.ENTITY_PHONE_NUMBER],\n",
    "    supported_regions=[constants.COUNTRY_CODE_GERMANY],\n",
    ")\n",
    "\n",
    "result = phonenumber_recognizer.analyze(\"Lorem ipsum +4912345678 dolor amet\", [constants.ENTITY_PHONE_NUMBER])\n",
    "print(result)\n",
    "result = phonenumber_recognizer.analyze(\"Lorem ipsum +49 123 456 78 dolor amet\", [constants.ENTITY_PHONE_NUMBER])\n",
    "print(result)\n",
    "result = phonenumber_recognizer.analyze(\"Lorem ipsum 00492677526 dolor amet,  \", [constants.ENTITY_PHONE_NUMBER])\n",
    "print(result)\n",
    "result = phonenumber_recognizer.analyze(\"Lorem ipsum 00492677 526 dolor amet, \", [constants.ENTITY_PHONE_NUMBER])\n",
    "print(result)\n",
    "result = phonenumber_recognizer.analyze(\"Lorem ipsum 01724431392 dolor amet,  \", [constants.ENTITY_PHONE_NUMBER])\n",
    "print(result)\n",
    "result = phonenumber_recognizer.analyze(\"Lorem ipsum 0172 4431392 dolor amet, \", [constants.ENTITY_PHONE_NUMBER])\n",
    "print(result)\n",
    "result = phonenumber_recognizer.analyze(\"Lorem ipsum 030 12345678 dolor amet, \", [constants.ENTITY_PHONE_NUMBER])\n",
    "print(result)\n",
    "result = phonenumber_recognizer.analyze(\"Lorem ipsum 02677 526 dolor amet,    \", [constants.ENTITY_PHONE_NUMBER])\n",
    "print(result)\n"
   ]
  },
  {
   "cell_type": "markdown",
   "id": "b52e745c",
   "metadata": {},
   "source": [
    "## Generic Anonymizer"
   ]
  },
  {
   "cell_type": "code",
   "execution_count": null,
   "id": "928521c6",
   "metadata": {},
   "outputs": [],
   "source": [
    "from text_anonymizer import TextAnonymizer\n",
    "text_anonymizer = TextAnonymizer(supported_entities=[constants.ENTITY_PHONE_NUMBER],supported_regions=[constants.COUNTRY_CODE_GERMANY],supported_languages=[constants.LANGUAGE_CODE_EN])\n",
    "\n",
    "text = \"Testtext 01718304027 \"\n",
    "\n",
    "result = text_anonymizer.process(text=text, language=\"en\")\n",
    "print(result[\"text\"])"
   ]
  },
  {
   "cell_type": "code",
   "execution_count": null,
   "id": "18421c1c",
   "metadata": {},
   "outputs": [],
   "source": [
    "from text_anonymizer import TextAnonymizer\n",
    "#text_anonymizer = TextAnonymizer(supported_entities=[\"PERSON\", \"PHONE_NUMBER\", \"EMAIL_ADDRESS\", \"ADDRESS\", \"VIN\", \"IMEI\", \"CREDIT_CARD\",])\n",
    "text_anonymizer = TextAnonymizer(supported_entities=[\"PHONE_NUMBER\"])#,supported_regions=[\"DE\"],supported_languages=[\"de\"])\n",
    "\n",
    "text = \"\"\"\n",
    "Lorem ipsum +4912345678 dolor amet,          \n",
    "Lorem ipsum +49 123 456 78 dolor amet,       \n",
    "Lorem ipsum 00492677526 dolor amet,          \n",
    "Lorem ipsum 00492677 526 dolor amet,          \n",
    "Lorem ipsum 01724431392 dolor amet,         \n",
    "Lorem ipsum 0172 4431392 dolor amet,         \n",
    "Lorem ipsum 030 12345678 dolor amet,         \n",
    "Lorem ipsum 02677 526 dolor amet,           \n",
    "\n",
    "Lorem ipsum Telefonnummer 004912345678 dolor amet,          \n",
    "Lorem ipsum 0171 236 459 88 dolor amet,                 invalide nummer weil zu lang\n",
    "Lorem ipsum Telefon 0171 23456789 dolor amet,           invalide nummer weil zu lang\n",
    "\"\"\"\n",
    "\n",
    "result = text_anonymizer.process(text=text, language=\"de\")\n",
    "print(result[\"text\"])"
   ]
  },
  {
   "cell_type": "code",
   "execution_count": null,
   "id": "dfba24e0",
   "metadata": {},
   "outputs": [],
   "source": [
    "from text_anonymizer import TextAnonymizer\n",
    "#text_anonymizer = TextAnonymizer(supported_entities=[\"PERSON\", \"PHONE_NUMBER\", \"EMAIL_ADDRESS\", \"ADDRESS\", \"VIN\", \"IMEI\", \"CREDIT_CARD\",])\n",
    "text_anonymizer = TextAnonymizer(supported_entities=[\"PHONE_NUMBER\"])#,supported_regions=[\"DE\"],supported_languages=[\"de\"])\n",
    "\n",
    "text = \"\"\"\n",
    "+1 800-555-0123\n",
    "+49 (02677) 1273\n",
    "+49 (0) 2677 1273\n",
    "+049 (0) 17180304027\n",
    "+49 (0) 171 803 040 27\n",
    "+001 171 803 040 27\n",
    "+00117180304027\n",
    "0171 803 40 27\n",
    "026771273\n",
    "0171 8034027\n",
    "\"\"\"\n",
    "\n",
    "result = text_anonymizer.process(text=text, language=\"de\")\n",
    "print(result[\"text\"])"
   ]
  },
  {
   "cell_type": "code",
   "execution_count": null,
   "id": "e65b2228",
   "metadata": {},
   "outputs": [],
   "source": [
    "from text_anonymizer import TextAnonymizer\n",
    "text_anonymizer = TextAnonymizer(supported_entities=[\"PERSON\", \"PHONE_NUMBER\", \"EMAIL_ADDRESS\", \"ADDRESS\", \"VIN\", \"IMEI\", \"CREDIT_CARD\",])\n"
   ]
  },
  {
   "cell_type": "code",
   "execution_count": null,
   "id": "0f382629",
   "metadata": {},
   "outputs": [],
   "source": [
    "from text_anonymizer import TextAnonymizer\n",
    "text_anonymizer = TextAnonymizer(supported_entities=[\"PERSON\", \"PHONE_NUMBER\", \"EMAIL_ADDRESS\", \"ADDRESS\", \"VIN\", \"IMEI\", \"CREDIT_CARD\",])\n",
    "\n",
    "text = \"\"\"\n",
    "1234567890123456789012345678901234567890123456789\n",
    "Lorem ipsum Trierer Straße 32e, 67658 Koblenz dolor amet,\n",
    "Lorem ipsum beenedndne.asdndnendfnqn@dedee.de amet,\n",
    "\"\"\"\n",
    "#Lorem ipsum Trierer Straße 32e, 67658 Koblenz' dolor amet,\n",
    "#Lorem ipsum An der Bleiche 3, 34234 Nierstein dolor amet,\n",
    "#Lorem ipsum Trierer Straße 32e in 67658 Koblenz dolor amet,\n",
    "#Lorem ipsum Trierer Straße 32e in 67658 Koblenz     dolor amet,\n",
    "\n",
    "result = text_anonymizer.process(text=text, language=\"de\")\n",
    "print(result[\"text\"])"
   ]
  },
  {
   "cell_type": "code",
   "execution_count": null,
   "id": "271db92d",
   "metadata": {},
   "outputs": [],
   "source": [
    "result0 = text_anonymizer.process(text=\"Lorem ipsum +4901718605879 phone 4901718605879 sit dolor 30569309025904 amet\", language=\"de\")\n",
    "result1 = text_anonymizer.process(text=\"Lorem ipsum +4901718605879 Tel: 4901718605879 sit dolor 30569309025904 amet\", language=\"de\")\n",
    "result2 = text_anonymizer.process(text=\"Lorem ipsum +4901718605879 Telefon 4901718605879 sit dolor 30569309025904 amet\", language=\"de\")\n",
    "result3 = text_anonymizer.process(text=\"Lorem ipsum +4901718605879 Telefonnummer: 4901718605879 sit dolor 30569309025904 amet\", language=\"de\")\n",
    "result4 = text_anonymizer.process(text=\"Lorem ipsum +4901718605879 cell 4901718605879 sit dolor 30569309025904 amet\", language=\"en\")\n",
    "result5 = text_anonymizer.process(text=\"Lorem ipsum +4901718605879 cellphone 4901718605879 sit dolor 30569309025904 amet\", language=\"en\")\n",
    "result6 = text_anonymizer.process(text=\"Lorem ipsum +4901718605879 mobil 4901718605879 sit dolor 30569309025904 amet\", language=\"en\")\n",
    "result7 = text_anonymizer.process(text=\"Lorem ipsum +4901718605879 +41 171 860 587 9 +411718605879 mobile 4901718605879 sit dolor 30569309025904 amet\", language=\"en\")\n",
    "print(\"Originaltext: Lorem ipsum +4901718605879 mobile 4901718605879 sit dolor 30569309025904 amet\")\n",
    "print(result0)\n",
    "print(result1)\n",
    "print(result2)\n",
    "print(result3)\n",
    "print(result4)\n",
    "print(result5)\n",
    "print(result6)\n",
    "print(result7)\n"
   ]
  },
  {
   "cell_type": "markdown",
   "id": "c69e7088",
   "metadata": {},
   "source": [
    "## Supplement"
   ]
  },
  {
   "cell_type": "code",
   "execution_count": 1,
   "id": "ee036033-b81d-4ef1-acfe-b1dd012a5d79",
   "metadata": {},
   "outputs": [],
   "source": [
    "import spacy"
   ]
  },
  {
   "cell_type": "code",
   "execution_count": 35,
   "id": "4627bb93-76ca-4ba3-b84b-967bcdc3aafd",
   "metadata": {},
   "outputs": [],
   "source": [
    "nlp = spacy.load(\"en_core_web_trf\")"
   ]
  },
  {
   "cell_type": "code",
   "execution_count": 42,
   "id": "6c8912c7-425d-4ef9-88c3-3959975c18e6",
   "metadata": {},
   "outputs": [],
   "source": [
    "text = \"Hi Marcus, this is Meyer, call me back at my number 0168 77311345.\""
   ]
  },
  {
   "cell_type": "markdown",
   "id": "ac08ef2c-c151-4e5d-a123-7c9cc008aa9b",
   "metadata": {},
   "source": [
    "# Textverarbeitung mit Spacy"
   ]
  },
  {
   "cell_type": "code",
   "execution_count": null,
   "id": "606133df-c03e-44d5-abc8-d29b21dcd16b",
   "metadata": {},
   "outputs": [],
   "source": [
    "doc = nlp(text)\n",
    "for token in doc:\n",
    "    print(token.text, token.pos_, token.dep_)\n",
    "print(\"---\")\n",
    "for ent in doc.ents:\n",
    "    print(ent.text, ent.start_char, ent.end_char, ent.label_)"
   ]
  },
  {
   "cell_type": "markdown",
   "id": "b428b2a9-2a5b-42af-b6fd-72a73abe9b88",
   "metadata": {},
   "source": [
    "# Anonymisierung mit Presidio"
   ]
  },
  {
   "cell_type": "code",
   "execution_count": 38,
   "id": "9fd05abb-1760-4f07-a3b2-9ee6c7a8028a",
   "metadata": {},
   "outputs": [],
   "source": [
    "text = \"Hi Marcus, this is Meyer, call me back at my number 0168 77311345\""
   ]
  },
  {
   "cell_type": "code",
   "execution_count": null,
   "id": "249e48aa-7784-4f03-a73c-71661cf43727",
   "metadata": {},
   "outputs": [],
   "source": [
    "from presidio_analyzer import AnalyzerEngine\n",
    "from presidio_analyzer.nlp_engine import NlpEngineProvider\n",
    "from presidio_anonymizer import AnonymizerEngine\n",
    "\n",
    "# Create configuration containing engine name and models\n",
    "configuration = {\n",
    "    \"nlp_engine_name\": \"spacy\",\n",
    "    \"models\": [\n",
    "        {\"lang_code\": \"en\", \"model_name\": \"en_core_web_trf\"},\n",
    "    ],\n",
    "}\n",
    "\n",
    "# Set up the engine, loads the NLP module (spaCy model by default) \n",
    "# and other PII recognizers\n",
    "# Create NLP engine based on configuration\n",
    "provider = NlpEngineProvider(nlp_configuration=configuration)\n",
    "nlp_engine_with_german = provider.create_engine()\n",
    "\n",
    "# Pass the created NLP engine and supported_languages to the AnalyzerEngine\n",
    "analyzer = AnalyzerEngine(\n",
    "    nlp_engine=nlp_engine_with_german, supported_languages=[\"en\"]\n",
    ")\n",
    "\n",
    "# Call analyzer to get results\n",
    "results = analyzer.analyze(text=text,\n",
    "                           entities=[\"PHONE_NUMBER\", \"PERSON\"],\n",
    "                           language='en')\n",
    "print(results)\n",
    "\n",
    "# Analyzer results are passed to the AnonymizerEngine for anonymization\n",
    "\n",
    "anonymizer = AnonymizerEngine()\n",
    "\n",
    "anonymized_text = anonymizer.anonymize(text=text,analyzer_results=results)\n",
    "\n",
    "print(anonymized_text)\n"
   ]
  },
  {
   "cell_type": "markdown",
   "id": "3c303473-57aa-4681-a67d-fcb4eed1c0e3",
   "metadata": {},
   "source": [
    "# TextAnonymizer"
   ]
  },
  {
   "cell_type": "code",
   "execution_count": 25,
   "id": "0c579356-fd8f-475b-869a-e973a9bf9b7f",
   "metadata": {},
   "outputs": [],
   "source": [
    "text = \"\"\"\n",
    "Hi everyone,\n",
    " \n",
    "do we need to adjust our usage stats regarding the changes mentioned below?\n",
    "If so: Please create a corresponding story. \n",
    "Should something critical come up, give me a call via number 01653456671\n",
    "\n",
    "Thank you very much and best regards,\n",
    "Herbert \n",
    " \n",
    "From: corpdir-approval@mercedes-benz.com <corpdir-approval@mercedes-benz.com>\n",
    "Sent: Wednesday, 11. Mai 2024 23:58\n",
    "To: Meyer, Oscar (047) <oscar.meyer@mercedes-benz.com>\n",
    "Cc: Brock, Herbert (047) <herbert.brock@mercedes-benz.com>\n",
    "Subject: Change of Single/Multi Value attributes, preparation for RPA use case and Upgrade IDP\n",
    "\n",
    "Dear Mr. Meyer,\n",
    "\n",
    "The following changes will be made to the GAS IDP in the near future:\n",
    "Modification of the IDP cookie to support the login of Robot Process Automation (RPA) use cases.\n",
    "Adjustment in the behaviour of claims, which can contain single and multiple values.\n",
    "Upgrading the Identity Provider to a New Version\n",
    "\n",
    "…\n",
    "\"\"\""
   ]
  },
  {
   "cell_type": "code",
   "execution_count": 26,
   "id": "e5246e0f-d9fb-401d-a913-8443514a3369",
   "metadata": {},
   "outputs": [],
   "source": [
    "from text_anonymizer import TextAnonymizer"
   ]
  },
  {
   "cell_type": "code",
   "execution_count": 27,
   "id": "6dd6a751-8e84-4ba3-8a47-4bfe44939e33",
   "metadata": {},
   "outputs": [],
   "source": [
    "text_anonymizer = TextAnonymizer(supported_entities=[\"PERSON\", \"PHONE_NUMBER\", \"EMAIL_ADDRESS\"])"
   ]
  },
  {
   "cell_type": "code",
   "execution_count": 28,
   "id": "6f886f9d-c74c-4fa7-a14c-1ed3920775ac",
   "metadata": {},
   "outputs": [],
   "source": [
    "result = text_anonymizer.process(text=text, language=\"en\")"
   ]
  },
  {
   "cell_type": "code",
   "execution_count": null,
   "id": "fe3a71cd-767a-4e22-bd9f-ad3d4ec2ef94",
   "metadata": {},
   "outputs": [],
   "source": [
    "result"
   ]
  },
  {
   "cell_type": "code",
   "execution_count": null,
   "id": "02ca83c9-23ae-4b24-ac2f-b4ae798ddf3f",
   "metadata": {},
   "outputs": [],
   "source": [
    "result = text_anonymizer.process(text=text, language=\"en\", detect=True)\n",
    "\n",
    "if result[\"entities\"]:\n",
    "    print(\"Caution: This text contains personal data!\")\n",
    "    print(text)\n",
    "else:\n",
    "    print(\"This text does not contain personal data.\")\n",
    "\n",
    "# Iterate over entities.\n",
    "for entity in result[\"entities\"]:\n",
    "    print(\n",
    "        '\"{}\" is a {} found at position {}-{}.'.format(\n",
    "            text[entity[\"start\"] : entity[\"end\"]],\n",
    "            entity[\"type\"],\n",
    "            entity[\"start\"],\n",
    "            entity[\"end\"],\n",
    "        )\n",
    "    )"
   ]
  },
  {
   "cell_type": "markdown",
   "id": "e7423b47-29d7-4dc6-b00c-71399f9c7a27",
   "metadata": {},
   "source": [
    "## Eingrenzung"
   ]
  },
  {
   "cell_type": "code",
   "execution_count": null,
   "id": "85d7674c-4272-44c3-be41-72d5a199bdd1",
   "metadata": {},
   "outputs": [],
   "source": [
    "supported_languages = [\"de\"]\n",
    "supported_entities = [\"PERSON\", \"PHONE_NUMBER\"]\n",
    "supported_regions = None\n",
    "\n",
    "# Create the text anonymizer and tell it what it is intended to be used for.\n",
    "text_anonymizer = TextAnonymizer(\n",
    "    supported_languages=supported_languages,\n",
    "    supported_entities=supported_entities,\n",
    "    supported_regions=supported_regions,\n",
    ")\n",
    "result = text_anonymizer.process(text=text, language=\"de\")\n",
    "\n",
    "print(result[\"text\"])\n",
    "\n",
    "result = text_anonymizer.process(\n",
    "    text=text, language=\"de\", entities=[\"PERSON\"])\n",
    "print(result[\"text\"])\n",
    "\n",
    "result = text_anonymizer.process(\n",
    "    text=text, language=\"de\", entities=[\"PERSON\", \"PHONE_NUMBER\"], regions=[\"GB\"]\n",
    ")\n",
    "print(result[\"text\"])\n"
   ]
  },
  {
   "cell_type": "markdown",
   "id": "e6be519e-d3ad-41db-918a-54632832c6b3",
   "metadata": {},
   "source": [
    "## Redact und Replace"
   ]
  },
  {
   "cell_type": "code",
   "execution_count": null,
   "id": "deb6c43e-9644-4493-87df-9062656ab0c9",
   "metadata": {},
   "outputs": [],
   "source": [
    "technique_redact = \"redact\"\n",
    "technique_replace = \"replace\"\n",
    "\n",
    "# Create a text anonymizer.\n",
    "text_anonymizer = TextAnonymizer()\n",
    "\n",
    "# Anonymize text and tell it what anonymization technique to use.\n",
    "result = text_anonymizer.process(\n",
    "    text=text, language=\"de\", technique=technique_redact\n",
    ")\n",
    "print(result[\"text\"])\n",
    "\n",
    "result = text_anonymizer.process(\n",
    "    text=text, language=\"de\", technique=technique_replace\n",
    ")\n",
    "print(result[\"text\"])"
   ]
  },
  {
   "cell_type": "code",
   "execution_count": null,
   "id": "17085190-7325-464d-9b53-041cf38e9af4",
   "metadata": {},
   "outputs": [],
   "source": []
  }
 ],
 "metadata": {
  "kernelspec": {
   "display_name": "i3-anonymate-JhrOmVc1-py3.11",
   "language": "python",
   "name": "python3"
  },
  "language_info": {
   "codemirror_mode": {
    "name": "ipython",
    "version": 3
   },
   "file_extension": ".py",
   "mimetype": "text/x-python",
   "name": "python",
   "nbconvert_exporter": "python",
   "pygments_lexer": "ipython3",
   "version": "3.11.9"
  }
 },
 "nbformat": 4,
 "nbformat_minor": 5
}
